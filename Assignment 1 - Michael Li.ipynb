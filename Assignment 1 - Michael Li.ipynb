{
 "cells": [
  {
   "cell_type": "markdown",
   "metadata": {},
   "source": [
    "Question 1\n",
    "\n",
    "2+5: Mathematical expression that adds 2 and 5, produces the integer, \"7\". \n",
    "\n",
    "2 + 5: Mathematical expression that adds 2 and 5, and produces the integer, \"7\". \n",
    "\n",
    "2*5: Mathematical expression that multiples 2 and 5, and produces the integer, \"10\". \n",
    "\n",
    "2/5: Mathematical expression that divides 2 by 5, and produces the float, \"0.4\". \n",
    "\n",
    "2**5: Mathematical expression that takes 2 to the 5 exponent, and produces the integer, \"32\""
   ]
  },
  {
   "cell_type": "markdown",
   "metadata": {},
   "source": [
    "Question 2\n",
    "\n",
    "x = 7: Value of x is 7, as the integer 7 is assigned to x\n",
    "\n",
    "x = x+3: Value of x becomes 10, as x is 7 and now gets added 3, and this sum of 10 becomes assigned the new x\n",
    "\n",
    "After running these statements in order, x = 10"
   ]
  },
  {
   "cell_type": "markdown",
   "metadata": {},
   "source": [
    "Question 3\n",
    "\n",
    "x = 3: x is the integer, \"3\", since it is assigned to x. y has no value. y is not defined.\n",
    "\n",
    "y = x: x is still the integer, \"3\". y is now assigned to the value of x, which is \"3.\"\n",
    "\n",
    "x = 10: x is now the integer, \"10\", since the now assignment overwrites the previous assignment.\n",
    "\n",
    "After running these statements, x = 10, y = 3"
   ]
  },
  {
   "cell_type": "markdown",
   "metadata": {},
   "source": [
    "Question 4\n",
    "\n",
    "The code runs without error. The code produces the result: 1.5 abcabc"
   ]
  },
  {
   "cell_type": "markdown",
   "metadata": {},
   "source": [
    "Question 5\n",
    "\n",
    "The code has an error in line 4: z = x + y. You cannot concatenate a float with a string. "
   ]
  },
  {
   "cell_type": "markdown",
   "metadata": {},
   "source": [
    "Question 6\n",
    "\n",
    "The code runs without error. The code produces the result: 3|24|8.0"
   ]
  },
  {
   "cell_type": "markdown",
   "metadata": {},
   "source": [
    "Question 7\n",
    "\n",
    "The code has an error in line 3: z = y/x. You cannot divide a string by a float. "
   ]
  },
  {
   "cell_type": "markdown",
   "metadata": {},
   "source": [
    "Question 8\n",
    "\n",
    "The code runs without error. The code has no output, but creates a variable x that stores the string: \"I am a #string\". The \"Whoa, a string!\" is a comment and therefore not part of x. "
   ]
  },
  {
   "cell_type": "markdown",
   "metadata": {},
   "source": [
    "Question 9\n",
    "\n",
    "The code runs without error. The code produces the result: [1, 2, 3, 42, 43]"
   ]
  },
  {
   "cell_type": "markdown",
   "metadata": {},
   "source": [
    "Question 10\n",
    "\n",
    "The code has an error in line 3: z = x + y. You cannot concatenate an integer with a list."
   ]
  },
  {
   "cell_type": "markdown",
   "metadata": {},
   "source": [
    "Question 11\n",
    "\n",
    "x1 = 12: Integer\n",
    "\n",
    "x2 = 12.0: Float\n",
    "\n",
    "x3 = '12.0': String\n",
    "\n",
    "x4: = [12]: List\n",
    "\n",
    "x5 = [12, 12.0, '12.0']: List"
   ]
  },
  {
   "cell_type": "markdown",
   "metadata": {},
   "source": [
    "Question 12\n",
    "\n",
    "type(42): Integer\n",
    "\n",
    "type(42.0): Float\n",
    "\n",
    "type('42.0'): String\n",
    "\n",
    "type(\"42.0\"): String\n",
    "\n",
    "type(\"\"\"42.0\"\"\"): String\n",
    "\n",
    "type([1,2]): List\n",
    "\n",
    "type([1] + [2]): List\n",
    "\n",
    "type(1+2): Integer\n",
    "\n",
    "type(print): Built-In Function/Method"
   ]
  },
  {
   "cell_type": "markdown",
   "metadata": {},
   "source": [
    "Question 13\n",
    "\n",
    "type(float(str(int('1234')))): Converts the string, \"1234\" to an integer back to a string and finally to a float. The type function returns the class of the final conversion, which is a float. "
   ]
  },
  {
   "cell_type": "markdown",
   "metadata": {},
   "source": [
    "Question 14\n",
    "\n",
    "type(int(float('12.34'))): Converts the string, \"12.34\", to a float to an integer. The type function returns the class of the final conversion, which is an integer. "
   ]
  },
  {
   "cell_type": "markdown",
   "metadata": {},
   "source": [
    "Question 15"
   ]
  },
  {
   "cell_type": "markdown",
   "metadata": {},
   "source": [
    "len([1234]): returns the length of the list, which is 1\n",
    "\n",
    "len(\"1234\"): returns the length of the string, which is 4\n",
    "\n",
    "len(1234): returns the length of the integer, but since an integer has no length, there will be an error\n"
   ]
  },
  {
   "cell_type": "markdown",
   "metadata": {},
   "source": [
    "Question 16\n",
    "\n",
    "The type and length of x = [] are list and 0, respectively"
   ]
  },
  {
   "cell_type": "markdown",
   "metadata": {},
   "source": [
    "Question 17"
   ]
  },
  {
   "cell_type": "code",
   "execution_count": 8,
   "metadata": {},
   "outputs": [
    {
     "data": {
      "text/plain": [
       "['a', 'b', 'c', 'd', 'e']"
      ]
     },
     "execution_count": 8,
     "metadata": {},
     "output_type": "execute_result"
    }
   ],
   "source": [
    "x = 'abcde'\n",
    "list(x)"
   ]
  },
  {
   "cell_type": "markdown",
   "metadata": {},
   "source": [
    "Question 18"
   ]
  },
  {
   "cell_type": "code",
   "execution_count": 9,
   "metadata": {},
   "outputs": [
    {
     "data": {
      "text/plain": [
       "1234.0"
      ]
     },
     "execution_count": 9,
     "metadata": {},
     "output_type": "execute_result"
    }
   ],
   "source": [
    "x = 1234\n",
    "float(x)"
   ]
  },
  {
   "cell_type": "code",
   "execution_count": 11,
   "metadata": {},
   "outputs": [
    {
     "data": {
      "text/plain": [
       "'1234'"
      ]
     },
     "execution_count": 11,
     "metadata": {},
     "output_type": "execute_result"
    }
   ],
   "source": [
    "x = 1234\n",
    "str(x)"
   ]
  },
  {
   "cell_type": "code",
   "execution_count": 13,
   "metadata": {},
   "outputs": [
    {
     "data": {
      "text/plain": [
       "['1', '2', '3', '4']"
      ]
     },
     "execution_count": 13,
     "metadata": {},
     "output_type": "execute_result"
    }
   ],
   "source": [
    "x = 1234\n",
    "x = str(x) #since an integer is not iterable, I first converted it to a string\n",
    "list(x)"
   ]
  },
  {
   "cell_type": "markdown",
   "metadata": {},
   "source": [
    "Question 19"
   ]
  },
  {
   "cell_type": "code",
   "execution_count": 38,
   "metadata": {},
   "outputs": [
    {
     "name": "stdout",
     "output_type": "stream",
     "text": [
      "Luke, I Am Your Father\n"
     ]
    }
   ],
   "source": [
    "x = \"luke, i am your father\"\n",
    "x = x.split() #creates a list of each word\n",
    "y = '' #initializes a string\n",
    "for i in range(len(x)):\n",
    "    x[i] = x[i].capitalize() #capitalizes each word in the list\n",
    "    y = y + x[i] + ' ' #adds each word to the new string with a space\n",
    "print(y.rstrip())  #prints the final string and removes the trailing space\n"
   ]
  },
  {
   "cell_type": "markdown",
   "metadata": {},
   "source": [
    "Question 20"
   ]
  },
  {
   "cell_type": "code",
   "execution_count": 42,
   "metadata": {},
   "outputs": [
    {
     "name": "stdout",
     "output_type": "stream",
     "text": [
      "There are 49 characters in this string including spaces\n",
      "There are 41 characters in this string not including spaces\n"
     ]
    }
   ],
   "source": [
    "x = \"How many characters and words are in this string?\"\n",
    "print(\"There are \" + str(len(x)) + \" characters in this string including spaces.\")\n",
    "x = x.replace(\" \",\"\") #removes spaces in the string\n",
    "len(x) #returns how many characters are in this string \n",
    "print(\"There are \" + str(len(x)) + \" characters in this string not including spaces.\")"
   ]
  },
  {
   "cell_type": "code",
   "execution_count": 45,
   "metadata": {},
   "outputs": [
    {
     "data": {
      "text/plain": [
       "['H',\n",
       " 'o',\n",
       " 'w',\n",
       " 'm',\n",
       " 'a',\n",
       " 'n',\n",
       " 'y',\n",
       " 'c',\n",
       " 'h',\n",
       " 'a',\n",
       " 'r',\n",
       " 'a',\n",
       " 'c',\n",
       " 't',\n",
       " 'e',\n",
       " 'r',\n",
       " 's',\n",
       " 'a',\n",
       " 'n',\n",
       " 'd',\n",
       " 'w',\n",
       " 'o',\n",
       " 'r',\n",
       " 'd',\n",
       " 's',\n",
       " 'a',\n",
       " 'r',\n",
       " 'e',\n",
       " 'i',\n",
       " 'n',\n",
       " 't',\n",
       " 'h',\n",
       " 'i',\n",
       " 's',\n",
       " 's',\n",
       " 't',\n",
       " 'r',\n",
       " 'i',\n",
       " 'n',\n",
       " 'g',\n",
       " '?']"
      ]
     },
     "execution_count": 45,
     "metadata": {},
     "output_type": "execute_result"
    }
   ],
   "source": [
    "x = \"How many characters and words are in this string?\"\n",
    "x = x.replace(\" \",\"\")\n",
    "x = list(x)"
   ]
  },
  {
   "cell_type": "code",
   "execution_count": 31,
   "metadata": {},
   "outputs": [
    {
     "data": {
      "text/plain": [
       "['How', 'many', 'characters', 'and', 'words', 'are', 'in', 'this', 'string?']"
      ]
     },
     "execution_count": 31,
     "metadata": {},
     "output_type": "execute_result"
    }
   ],
   "source": [
    "x = \"How many characters and words are in this string?\"\n",
    "x.split()"
   ]
  },
  {
   "cell_type": "code",
   "execution_count": 46,
   "metadata": {},
   "outputs": [
    {
     "data": {
      "text/plain": [
       "'There are 9 words in x.'"
      ]
     },
     "execution_count": 46,
     "metadata": {},
     "output_type": "execute_result"
    }
   ],
   "source": [
    "x = \"How many characters and words are in this string?\"\n",
    "x = x.split()\n",
    "\"There are \" + str(len(x)) + \" words in x.\" "
   ]
  },
  {
   "cell_type": "markdown",
   "metadata": {},
   "source": [
    "Question 21\n",
    "\n",
    "This assignment took me approximately 90 minutes. "
   ]
  },
  {
   "cell_type": "code",
   "execution_count": null,
   "metadata": {},
   "outputs": [],
   "source": []
  }
 ],
 "metadata": {
  "kernelspec": {
   "display_name": "Python 3",
   "language": "python",
   "name": "python3"
  },
  "language_info": {
   "codemirror_mode": {
    "name": "ipython",
    "version": 3
   },
   "file_extension": ".py",
   "mimetype": "text/x-python",
   "name": "python",
   "nbconvert_exporter": "python",
   "pygments_lexer": "ipython3",
   "version": "3.6.5"
  }
 },
 "nbformat": 4,
 "nbformat_minor": 2
}
