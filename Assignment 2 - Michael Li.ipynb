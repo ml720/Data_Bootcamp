{
 "cells": [
  {
   "cell_type": "markdown",
   "metadata": {},
   "source": [
    "Question 1\n",
    "\n",
    "The code has an error in line 3: z = x + y. You cannot concatenate a list with a string."
   ]
  },
  {
   "cell_type": "markdown",
   "metadata": {},
   "source": [
    "Question 2\n",
    "\n",
    "The function that tells us the type is: type(). The function that tells us how many elements they contain is: len()."
   ]
  },
  {
   "cell_type": "markdown",
   "metadata": {},
   "source": [
    "Question 3\n",
    "\n",
    "2: Integer - It is a number with no decimal points.\n",
    "\n",
    "'2': String - There are apostrophes around the number 2.\n",
    "\n",
    "2.0: Float - There is a decimal point in the number.\n",
    "\n",
    "\"2.0\": String - There are quotations around the number 2.0.\n",
    "\n",
    "2>1: Boolean - It is an equation that produces \"true\" or \"false\", which is a boolean. \n",
    "\n",
    "'Itamar' > 'Chase': Boolean - The strings have lengths and the equation compares the lengths of the string, producing a \"true\" or \"false.\" \n",
    "\n",
    "[1,2]: List - There are square brackets around a comma separated list of numbers.\n",
    "\n",
    "(1,2): Tuple - The parentheses indicate that the list is not iterable and is a tuple. \n",
    "\n",
    "{1: 'one', 2: 'two'}: Dictionary - The curly brackets, as well as the colon separating two elements for each item in the list shows that it is a dictionary. "
   ]
  },
  {
   "cell_type": "markdown",
   "metadata": {},
   "source": [
    "Question 4\n",
    "\n",
    "1 >= 0: True\n",
    "\n",
    "1 >= 1: True\n",
    "\n",
    "1 > 1: False\n",
    "\n",
    "1 == 1: True\n",
    "\n",
    "1 == 1.0: True\n",
    "\n",
    "'Spencer' == \"Spencer\": True\n",
    "\n",
    "2^3  > 3^2: False (putting ** on each side just made the equation bold)\n",
    "\n",
    "1 >=0 or 1 <=2: True \n",
    "\n",
    "1 >=0 and 1 <=2: True "
   ]
  },
  {
   "cell_type": "markdown",
   "metadata": {},
   "source": [
    "Question 5\n",
    "\n",
    "The code has an error in line 1. Fix it by putting a colon after \"if 2>1\". \n",
    "Code should look like:\n",
    "\n",
    "if 2>1:\n",
    "\n",
    "    print('Yes, 2 is still greater than 1')\n"
   ]
  },
  {
   "cell_type": "markdown",
   "metadata": {},
   "source": [
    "Question 6\n",
    "\n",
    "The result of running the code is: on the one hand. Because the if condition is true, only the code in the if section is run. The code in the else section is not run since it only runs if the condition is false. \n",
    "\n",
    "If the True is replaced with False, the code following \"else:\" is run. Therefore, the code would produce: but on the other hand. \n",
    "\n",
    "If we insert the word \"not\" after if in the first line, the code following \"else:\" is run. Saying \"not True\" is the same as saying \"False\". Therefore, the code would produce: but on the other hand."
   ]
  },
  {
   "cell_type": "markdown",
   "metadata": {},
   "source": [
    "Question 7\n",
    "\n",
    "The result of running this code is: Chase. "
   ]
  },
  {
   "cell_type": "markdown",
   "metadata": {},
   "source": [
    "Question 8\n",
    "\n",
    "if len(x) > len(y):\n",
    "\n",
    "    print('x has more')\n",
    "    \n",
    "else:\n",
    "\n",
    "    print(\"y has at least as many\")"
   ]
  },
  {
   "cell_type": "markdown",
   "metadata": {},
   "source": [
    "Question 9\n",
    "\n",
    "Slicing returns a certain section of a given sequence, specifically on strings, bytes, lists, tuples, and ranges. "
   ]
  },
  {
   "cell_type": "markdown",
   "metadata": {},
   "source": [
    "Question 10"
   ]
  },
  {
   "cell_type": "code",
   "execution_count": 3,
   "metadata": {},
   "outputs": [
    {
     "data": {
      "text/plain": [
       "[1]"
      ]
     },
     "execution_count": 3,
     "metadata": {},
     "output_type": "execute_result"
    }
   ],
   "source": [
    "x = [1,2,3,4,5]\n",
    "y = x[0:1]\n",
    "y"
   ]
  },
  {
   "cell_type": "code",
   "execution_count": 8,
   "metadata": {},
   "outputs": [
    {
     "data": {
      "text/plain": [
       "[5]"
      ]
     },
     "execution_count": 8,
     "metadata": {},
     "output_type": "execute_result"
    }
   ],
   "source": [
    "x = [1,2,3,4,5]\n",
    "y = x[len(x)-1:]\n",
    "y"
   ]
  },
  {
   "cell_type": "code",
   "execution_count": 9,
   "metadata": {},
   "outputs": [
    {
     "data": {
      "text/plain": [
       "[1, 2, 3, 4]"
      ]
     },
     "execution_count": 9,
     "metadata": {},
     "output_type": "execute_result"
    }
   ],
   "source": [
    "x = [1,2,3,4,5]\n",
    "y = x[0:-1]\n",
    "y"
   ]
  },
  {
   "cell_type": "markdown",
   "metadata": {},
   "source": [
    "Question 11\n"
   ]
  },
  {
   "cell_type": "code",
   "execution_count": 15,
   "metadata": {},
   "outputs": [
    {
     "data": {
      "text/plain": [
       "('This', 'is', 'a', 'sentence', 'please', 'slice', 'it')"
      ]
     },
     "execution_count": 15,
     "metadata": {},
     "output_type": "execute_result"
    }
   ],
   "source": [
    "sentence = 'This is a sentence; please slice it'\n",
    "a = sentence[0:4]\n",
    "b = sentence[5:7]\n",
    "c = sentence[8:9]\n",
    "d = sentence[10:18]\n",
    "e = sentence[20:26]\n",
    "f = sentence[27:32]\n",
    "g = sentence[33:35]\n",
    "a, b, c, d, e, f, g"
   ]
  },
  {
   "cell_type": "markdown",
   "metadata": {},
   "source": [
    "Question 12"
   ]
  },
  {
   "cell_type": "code",
   "execution_count": 17,
   "metadata": {},
   "outputs": [
    {
     "data": {
      "text/plain": [
       "([1], ['b', 'fast', 'slow', 3])"
      ]
     },
     "execution_count": 17,
     "metadata": {},
     "output_type": "execute_result"
    }
   ],
   "source": [
    "x = [1, 2, \"a\", 'b', \"fast\", 'slow', 3, \"Raghu\", 'Liuren', 10]\n",
    "first_item = x[0:1]\n",
    "item = x[3:7]\n",
    "first_item, item"
   ]
  },
  {
   "cell_type": "markdown",
   "metadata": {},
   "source": [
    "Question 13"
   ]
  },
  {
   "cell_type": "code",
   "execution_count": 20,
   "metadata": {},
   "outputs": [
    {
     "name": "stdout",
     "output_type": "stream",
     "text": [
      "1\n",
      "2\n",
      "a\n",
      "b\n",
      "fast\n",
      "slow\n",
      "3\n",
      "Raghu\n",
      "Liuren\n",
      "10\n"
     ]
    }
   ],
   "source": [
    "x = [1, 2, \"a\", 'b', \"fast\", 'slow', 3, \"Raghu\", 'Liuren', 10]\n",
    "for i in range(len(x)):\n",
    "    print(x[i])"
   ]
  },
  {
   "cell_type": "markdown",
   "metadata": {},
   "source": [
    "Question 14"
   ]
  },
  {
   "cell_type": "code",
   "execution_count": 23,
   "metadata": {},
   "outputs": [
    {
     "name": "stdout",
     "output_type": "stream",
     "text": [
      "a\n",
      "b\n",
      "fast\n",
      "slow\n",
      "Raghu\n",
      "Liuren\n"
     ]
    }
   ],
   "source": [
    "x = [1, 2, \"a\", 'b', \"fast\", 'slow', 3, \"Raghu\", 'Liuren', 10]\n",
    "for i in range(len(x)):\n",
    "    if type(x[i]) == str:\n",
    "        print(x[i])"
   ]
  },
  {
   "cell_type": "markdown",
   "metadata": {},
   "source": [
    "Question 15\n",
    "\n",
    "range(3,12,2) creates a sequence of numbers which starts from 3, ends at 11, and increases in increments of 2. This is normally used in for loops to iterate over."
   ]
  },
  {
   "cell_type": "code",
   "execution_count": 31,
   "metadata": {},
   "outputs": [
    {
     "data": {
      "text/plain": [
       "[3, 5, 7, 9, 11]"
      ]
     },
     "execution_count": 31,
     "metadata": {},
     "output_type": "execute_result"
    }
   ],
   "source": [
    "x = list(range(3,12,2))\n",
    "x"
   ]
  },
  {
   "cell_type": "markdown",
   "metadata": {},
   "source": [
    "Question 16"
   ]
  },
  {
   "cell_type": "code",
   "execution_count": 34,
   "metadata": {},
   "outputs": [
    {
     "data": {
      "text/plain": [
       "165"
      ]
     },
     "execution_count": 34,
     "metadata": {},
     "output_type": "execute_result"
    }
   ],
   "source": [
    "counter = 0\n",
    "for i in range(0,31):\n",
    "    if i%3==0:\n",
    "        counter = counter + i\n",
    "counter"
   ]
  },
  {
   "cell_type": "markdown",
   "metadata": {},
   "source": [
    "Question 17"
   ]
  },
  {
   "cell_type": "code",
   "execution_count": 60,
   "metadata": {},
   "outputs": [
    {
     "data": {
      "text/plain": [
       "(1.41, '$1.41')"
      ]
     },
     "execution_count": 60,
     "metadata": {},
     "output_type": "execute_result"
    }
   ],
   "source": [
    "def pocket_change(a,b,c,d):\n",
    "    a = a*.01\n",
    "    b = b*.05\n",
    "    c = c*.1\n",
    "    d = d*.25\n",
    "    value = a + b + c + d\n",
    "    value = \"%.2f\"%value\n",
    "    return(float(value))\n",
    "pocket_change(1,2,3,4)\n",
    "\n",
    "def pocket_change_bonus(a,b,c,d): #bonus\n",
    "    a = a*.01\n",
    "    b = b*.05\n",
    "    c = c*.1\n",
    "    d = d*.25\n",
    "    value = a + b + c + d\n",
    "    value = \"%.2f\"%value\n",
    "    value = '$' + str(value)\n",
    "    return(value)\n",
    "\n",
    "x = pocket_change(1,2,3,4)\n",
    "\n",
    "y = pocket_change_bonus(1,2,3,4)   \n",
    "\n",
    "x,y\n"
   ]
  },
  {
   "cell_type": "markdown",
   "metadata": {},
   "source": [
    "Question 18"
   ]
  },
  {
   "cell_type": "code",
   "execution_count": 1,
   "metadata": {},
   "outputs": [
    {
     "data": {
      "text/plain": [
       "[1234, 4321, 9876]"
      ]
     },
     "execution_count": 1,
     "metadata": {},
     "output_type": "execute_result"
    }
   ],
   "source": [
    "def notsix(x):\n",
    "    new_x = []\n",
    "    for i in range(len(x)):\n",
    "        a = str(x[i])\n",
    "        if a[0] != '6':\n",
    "            a = int(a)\n",
    "            new_x.append(a)\n",
    "    return(new_x)\n",
    "notsix([1234,6783,6,4321,9876])\n",
    "                        "
   ]
  },
  {
   "cell_type": "markdown",
   "metadata": {},
   "source": [
    "Question 19\n",
    "\n",
    "This code takes the list of integers, old_list, and sees if the first digit in each number is a 6. It does this by converting each integer in the old list into a string first. If the first digit of the string is not a '6', it appends it to the new list, new_list. This code is the most efficient way of performing the function asked in the previous method. "
   ]
  },
  {
   "cell_type": "markdown",
   "metadata": {},
   "source": [
    "Question 20\n",
    "\n",
    "z = {1: 'one', 2: 'two', 3: 'three'}\n",
    "\n",
    "a. z is a dictionary. Its length is 3. \n",
    "\n",
    "b. The keys are 1, 2, 3. The values are 'one', 'two', 'three'.\n",
    "\n",
    "c. To get the value associated with key 2, write the code: z[2].\n",
    "\n",
    "d. z.keys returns the keys in the dictionary and z.values returns the values in the dictionary. \n",
    "\n",
    "e. list(z.keys()) takes the keys in the dictionary and puts them in a list.\n",
    "\n",
    "f. list(z.values()) takes the values in the dictionary and puts them in a list."
   ]
  },
  {
   "cell_type": "code",
   "execution_count": 80,
   "metadata": {},
   "outputs": [
    {
     "name": "stdout",
     "output_type": "stream",
     "text": [
      "two\n",
      "dict_keys([1, 2, 3])\n",
      "dict_values(['one', 'two', 'three'])\n",
      "[1, 2, 3]\n",
      "['one', 'two', 'three']\n"
     ]
    }
   ],
   "source": [
    "z = {1: 'one', 2: 'two', 3: 'three'}\n",
    "print(z[2])\n",
    "print(z.keys())\n",
    "print(z.values())\n",
    "print(list(z.keys()))\n",
    "print(list(z.values()))"
   ]
  },
  {
   "cell_type": "markdown",
   "metadata": {},
   "source": [
    "Question 21\n",
    "\n",
    "Create csv file and upload to Github. The assignment took me approximately 2 hours. "
   ]
  },
  {
   "cell_type": "code",
   "execution_count": null,
   "metadata": {},
   "outputs": [],
   "source": []
  }
 ],
 "metadata": {
  "kernelspec": {
   "display_name": "Python 3",
   "language": "python",
   "name": "python3"
  },
  "language_info": {
   "codemirror_mode": {
    "name": "ipython",
    "version": 3
   },
   "file_extension": ".py",
   "mimetype": "text/x-python",
   "name": "python",
   "nbconvert_exporter": "python",
   "pygments_lexer": "ipython3",
   "version": "3.6.5"
  }
 },
 "nbformat": 4,
 "nbformat_minor": 2
}
